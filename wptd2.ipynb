{
 "cells": [
  {
   "cell_type": "code",
   "execution_count": 6,
   "metadata": {},
   "outputs": [],
   "source": [
    "from opyncorporates import create_engine\n",
    "import pandas as pd\n",
    "import json"
   ]
  },
  {
   "cell_type": "code",
   "execution_count": 7,
   "metadata": {},
   "outputs": [],
   "source": [
    "engine = create_engine(api_version='0.4')"
   ]
  },
  {
   "cell_type": "code",
   "execution_count": 8,
   "metadata": {},
   "outputs": [],
   "source": [
    "def hurleygps():\n",
    "    \"\"\"\n",
    "    make a df of hurley gps\n",
    "    \"\"\"\n",
    "    df = pd.read_csv('hurleygps_fullnames.csv') # we added first names manually\n",
    "    df.columns = ['org code', 'surname', 'firstname', 'group', 'health geography', 'address ln1', 'address ln2', 'address ln3', 'address ln4', 'address ln5', 'pcd', 'open date', 'close date', 'status code', 'org code', 'org subcode', 'join parent', 'left parent', 'tel', 'null', 'null', 'null', 'ammended', 'null', 'current care org']\n",
    "    df.loc[:, 'surname'] = df['surname'].str.split(expand=True)[0] # clean up names\n",
    "    df = df[['firstname', 'surname']].dropna().values.tolist() # couldn't find all the names, throw away nans\n",
    "    return df"
   ]
  },
  {
   "cell_type": "code",
   "execution_count": 15,
   "metadata": {},
   "outputs": [],
   "source": [
    "def search_open_corporates_for_doctor_names(df, list_name):\n",
    "    \"\"\"\n",
    "    take a df of names, hit open corporates and search for names, save results as json\n",
    "    \"\"\"\n",
    "    results = []\n",
    "    for doctor in df:\n",
    "        print ('its doctor{}'.format(doctor))\n",
    "        search = engine.search('officers', q=doctor[0] + ' ' + doctor[1])\n",
    "        results.append(search.get_page(1))\n",
    "    with open(str(list_name) + '.json', 'w') as f:  \n",
    "        f.write(json.dumps(results))\n",
    "        print (\"result saved as {}\".format(str(list_name) + '.json'))"
   ]
  },
  {
   "cell_type": "code",
   "execution_count": 17,
   "metadata": {},
   "outputs": [
    {
     "name": "stdout",
     "output_type": "stream",
     "text": [
      "its doctor['MARK', 'ASHWORTH']\n",
      "its doctor['BEN ', 'SHANKLAND']\n",
      "its doctor['MURRAY', 'ELLENDER']\n",
      "its doctor['CLARE', 'GERADA']\n",
      "its doctor['NWAKURU', 'NWAOGWUGWU']\n",
      "its doctor['SARAH', 'ODOGWU']\n",
      "result saved as hurleygps.json\n"
     ]
    }
   ],
   "source": [
    "search_open_corporates_for_doctor_names(hurleygps(), 'hurleygps')"
   ]
  },
  {
   "cell_type": "code",
   "execution_count": 11,
   "metadata": {},
   "outputs": [],
   "source": [
    "twitter_IT_docs = [['Charles', 'Gutteridge'], ['Tony', 'Shannon'],['Joe', 'McDonald'],\n",
    "                   ['Benjamin', 'Upton'],['Dermot', 'ORiordan'], ['Ian', 'Reckless'], ['Paul', 'Gilluley'],\n",
    "                   ['Simon', 'Eccles']]\n",
    " "
   ]
  },
  {
   "cell_type": "code",
   "execution_count": 16,
   "metadata": {},
   "outputs": [
    {
     "name": "stdout",
     "output_type": "stream",
     "text": [
      "its doctor['Charles', 'Gutteridge']\n",
      "its doctor['Tony', 'Shannon']\n",
      "its doctor['Joe', 'McDonald']\n",
      "its doctor['Benjamin', 'Upton']\n",
      "its doctor['Dermot', 'ORiordan']\n",
      "its doctor['Ian', 'Reckless']\n",
      "its doctor['Paul', 'Gilluley']\n",
      "its doctor['Simon', 'Eccles']\n",
      "result saved as twitter_IT_docs.json\n"
     ]
    }
   ],
   "source": [
    "search_open_corporates_for_doctor_names(twitter_IT_docs, 'twitter_IT_docs')"
   ]
  },
  {
   "cell_type": "code",
   "execution_count": 14,
   "metadata": {},
   "outputs": [
    {
     "name": "stdout",
     "output_type": "stream",
     "text": [
      "'Disclosure List of GPs in England.xlsx'   hurleygps.json   results.json\r\n",
      " hurleygps.csv                             README.md        wptd2.ipynb\r\n",
      " hurleygps_fullnames.csv                   resources.md\r\n"
     ]
    }
   ],
   "source": [
    "ls"
   ]
  },
  {
   "cell_type": "code",
   "execution_count": null,
   "metadata": {},
   "outputs": [],
   "source": []
  }
 ],
 "metadata": {
  "kernelspec": {
   "display_name": "Python 3",
   "language": "python",
   "name": "python3"
  },
  "language_info": {
   "codemirror_mode": {
    "name": "ipython",
    "version": 3
   },
   "file_extension": ".py",
   "mimetype": "text/x-python",
   "name": "python",
   "nbconvert_exporter": "python",
   "pygments_lexer": "ipython3",
   "version": "3.5.6"
  }
 },
 "nbformat": 4,
 "nbformat_minor": 2
}
