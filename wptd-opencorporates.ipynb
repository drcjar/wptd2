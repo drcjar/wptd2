{
 "cells": [
  {
   "cell_type": "code",
   "execution_count": 1,
   "metadata": {},
   "outputs": [],
   "source": [
    "from opyncorporates import create_engine\n",
    "import pandas as pd\n",
    "import json"
   ]
  },
  {
   "cell_type": "code",
   "execution_count": 2,
   "metadata": {},
   "outputs": [],
   "source": [
    "engine = create_engine(api_version='0.4')"
   ]
  },
  {
   "cell_type": "code",
   "execution_count": 3,
   "metadata": {},
   "outputs": [],
   "source": [
    "df = pd.read_csv('hurleygps_fullnames.csv') # we added first names manually"
   ]
  },
  {
   "cell_type": "code",
   "execution_count": 4,
   "metadata": {},
   "outputs": [],
   "source": [
    "df.columns = ['org code', 'surname', 'firstname', 'group', 'health geography', 'address ln1', 'address ln2', 'address ln3', 'address ln4', 'address ln5', 'pcd', 'open date', 'close date', 'status code', 'org code', 'org subcode', 'join parent', 'left parent', 'tel', 'null', 'null', 'null', 'ammended', 'null', 'current care org']"
   ]
  },
  {
   "cell_type": "code",
   "execution_count": 5,
   "metadata": {},
   "outputs": [],
   "source": [
    "df.loc[:, 'surname'] = df['surname'].str.split(expand=True)[0] # clean up names"
   ]
  },
  {
   "cell_type": "code",
   "execution_count": 6,
   "metadata": {},
   "outputs": [],
   "source": [
    "hgds = df[['firstname', 'surname']].dropna().values.tolist() # couldn't find all the names, throw away nans"
   ]
  },
  {
   "cell_type": "code",
   "execution_count": 7,
   "metadata": {},
   "outputs": [
    {
     "name": "stdout",
     "output_type": "stream",
     "text": [
      "its doctor['MARK', 'ASHWORTH']\n",
      "its doctor['BEN ', 'SHANKLAND']\n",
      "its doctor['MURRAY', 'ELLENDER']\n",
      "its doctor['CLARE', 'GERADA']\n",
      "its doctor[' NWAKURU', 'NWAOGWUGWU']\n",
      "its doctor['SARAH', 'ODOGWU']\n"
     ]
    }
   ],
   "source": [
    "results = []\n",
    "for doctor in hgds:\n",
    "    print ('its doctor{}'.format(doctor))\n",
    "    search = engine.search('officers', q=doctor[0] + ' ' + doctor[1])\n",
    "    results.append(search.get_page(1))\n"
   ]
  },
  {
   "cell_type": "code",
   "execution_count": 10,
   "metadata": {},
   "outputs": [],
   "source": [
    "with open('results.json', 'w') as f:  \n",
    "    f.write(json.dumps(results))"
   ]
  },
  {
   "cell_type": "code",
   "execution_count": null,
   "metadata": {},
   "outputs": [],
   "source": []
  }
 ],
 "metadata": {
  "kernelspec": {
   "display_name": "Python 3",
   "language": "python",
   "name": "python3"
  },
  "language_info": {
   "codemirror_mode": {
    "name": "ipython",
    "version": 3
   },
   "file_extension": ".py",
   "mimetype": "text/x-python",
   "name": "python",
   "nbconvert_exporter": "python",
   "pygments_lexer": "ipython3",
   "version": "3.5.6"
  }
 },
 "nbformat": 4,
 "nbformat_minor": 2
}
